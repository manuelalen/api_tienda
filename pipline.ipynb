{
 "cells": [
  {
   "cell_type": "code",
   "execution_count": null,
   "metadata": {
    "vscode": {
     "languageId": "plaintext"
    }
   },
   "outputs": [],
   "source": [
    "from pyspark.sql import SparkSession\n",
    "from delta.tables import DeltaTable\n",
    "import requests\n",
    "\n",
    "\n",
    "spark = SparkSession.builder \\\n",
    "    .appName(\"DeltaExample\") \\\n",
    "    .config(\"spark.sql.extensions\", \"io.delta.sql.DeltaSparkSessionExtension\") \\\n",
    "    .config(\"spark.sql.catalog.spark_catalog\", \"org.apache.spark.sql.delta.catalog.DeltaCatalog\") \\\n",
    "    .config(\"spark.jars.packages\", \"io.delta:delta-core_2.12:2.2.0\") \\\n",
    "    .getOrCreate()\n",
    "\n",
    "# Obtener datos desde la API\n",
    "url = \"http://host.docker.internal:8000/detalles_compras/\"\n",
    "response = requests.get(url)\n",
    "if response.status_code != 200:\n",
    "    raise Exception(\"Error al conectar con la API\")\n",
    "\n",
    "datos = response.json()\n",
    "\n",
    "# Crear DataFrame\n",
    "df = spark.createDataFrame(datos)\n",
    "df = df.withColumn(\"precio\", df[\"precio\"] * df[\"cantidad\"])\n",
    "\n",
    "# Guardar como Delta Table\n",
    "df.write.format(\"delta\").mode(\"overwrite\").save(\"/home/jovyan/work/detalles_compras_delta\")\n",
    "\n",
    "# Leer la Delta Table y mostrarla\n",
    "delta_table = DeltaTable.forPath(spark, \"/home/jovyan/work/detalles_compras_delta\")\n",
    "delta_table.toDF().show()\n"
   ]
  }
 ],
 "metadata": {
  "language_info": {
   "name": "python"
  }
 },
 "nbformat": 4,
 "nbformat_minor": 2
}
